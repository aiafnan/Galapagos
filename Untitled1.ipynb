{
 "cells": [
  {
   "cell_type": "code",
   "execution_count": 1,
   "id": "5b9a3b60",
   "metadata": {},
   "outputs": [],
   "source": [
    "import flickrapi\n",
    "import urllib.request\n",
    "from PIL import Image\n",
    "import csv\n",
    "import os\n",
    "import glob\n",
    "from IPython.display import HTML\n",
    "from io import BytesIO\n",
    "import pandas as pd\n",
    "import matplotlib.pyplot as plt\n",
    "from matplotlib.image import imread\n",
    "import datetime\n",
    "\n",
    "os.chdir('C:/Users/mahmud/Desktop/Research/Galapagos/Python/Flikr Scraping/Images/Tortoisefresh')"
   ]
  },
  {
   "cell_type": "code",
   "execution_count": 2,
   "id": "77a94cfd",
   "metadata": {},
   "outputs": [],
   "source": [
    "# enter flickr API key and secret\n",
    "# create API Key here: https://www.flickr.com/services/apps/create/apply\n",
    "api_key = '41edd63028dfb86955ed4d3cf9b4e4ec'\n",
    "api_secret = 'ecebf3e7487090e0'\n",
    "flickr = flickrapi.FlickrAPI(api_key, api_secret, cache=True)\n"
   ]
  },
  {
   "cell_type": "code",
   "execution_count": 3,
   "id": "94b870f3",
   "metadata": {},
   "outputs": [],
   "source": [
    "maxlon=-90.2357; minlon=-90.50186\n",
    "minlat=-0.760444; maxlat=-0.539408\n",
    "\n",
    "def walkingbound(bbox, xdim, ydim):\n",
    "    x = bbox[2] - bbox[0]\n",
    "    y = bbox[3] - bbox[1]\n",
    "    x_inc = x / xdim\n",
    "    y_inc = y / ydim\n",
    "    coords = {'minlong':[bbox[0]], 'minlat':[bbox[1]], 'maxlon':[bbox[2]], 'maxlat':[bbox[3]]}\n",
    "    df = pd.DataFrame(data=coords)\n",
    "    \n",
    "    for i in range(xdim):\n",
    "        for a in range(ydim):\n",
    "            #a = a + 1\n",
    "            xmin = bbox[0] + (x_inc * i)\n",
    "            ymin = bbox[1] + (y_inc * a)\n",
    "            xmax = bbox[2] - (x_inc * i)\n",
    "            ymax = bbox[3] - (y_inc * a)\n",
    "            pts = {'minlon':[xmin], 'minlat':[ymin], 'maxlon':[xmax], 'maxlat':[ymax]}\n",
    "            pts_df = pd.DataFrame(pts)\n",
    "            df = df.append(pts_df)\n",
    "    df = df.reset_index(drop=True)\n",
    "    df = df.drop([0])\n",
    "    df = df.reset_index(drop=True)\n",
    "    \n",
    "    box_num = dim1 * dim2\n",
    "    coords = [None] * box_num\n",
    "    coord_list = [None] * box_num\n",
    "    \n",
    "    for i in range(box_num - 1):\n",
    "        coords[0] = [bbox[0], bbox[1], df['minlon'][xdim + 1], df['minlat'][ydim + 1]]\n",
    "        coords[i + 1] = [df.loc[i + 1, 'minlon'], df.loc[i + 1, 'minlat'], \n",
    "                         df.loc[box_num - (i + 2), 'maxlon'], df.loc[box_num - (i + 2), 'maxlat']]\n",
    "        coord_list[0] =  str(coords[0][0]) + ',' + str(coords[0][1]) + ',' + str(coords[0][2]) + ',' + str(coords[0][3])\n",
    "        coord_list[i + 1] =  str(coords[i][0]) + ',' + str(coords[i][1]) + ',' + str(coords[i][2]) + ',' + str(coords[i][3])\n",
    "    \n",
    "    return coords"
   ]
  },
  {
   "cell_type": "code",
   "execution_count": null,
   "id": "b73a3004",
   "metadata": {},
   "outputs": [],
   "source": [
    "bbox_macro=[minlon, minlat, maxlon, maxlat]\n",
    "\n",
    "dim1 = 5\n",
    "dim2 = 5\n",
    "\n",
    "boxes = walkingbound(bbox_macro, dim1, dim2)\n",
    "\n",
    "lons = [None] * len(boxes)\n",
    "lons1 = [None] * len(boxes)\n",
    "lats = [None] * len(boxes)\n",
    "lats1 = [None] * len(boxes)\n",
    "\n",
    "a = -1\n",
    "for i in range(len(boxes)):\n",
    "    lons[i] = float(boxes[i][0])\n",
    "    lons1[i] = float(boxes[i][2])\n",
    "    lats[i] = float(boxes[i][1])\n",
    "    lats1[i] = float(boxes[i][3])\n",
    "    \n",
    "lons = lons + lons1\n",
    "lats = lats + lats1\n",
    "\n",
    "macro_lon = [bbox_macro[0], bbox_macro[2]]\n",
    "macro_lat = [bbox_macro[1], bbox_macro[3]]\n",
    "\n",
    "plt.plot(lons, lats, 'g^')\n",
    "plt.plot(macro_lon, macro_lat, 'bo')"
   ]
  }
 ],
 "metadata": {
  "kernelspec": {
   "display_name": "geostats_env",
   "language": "python",
   "name": "geostats_env"
  },
  "language_info": {
   "codemirror_mode": {
    "name": "ipython",
    "version": 3
   },
   "file_extension": ".py",
   "mimetype": "text/x-python",
   "name": "python",
   "nbconvert_exporter": "python",
   "pygments_lexer": "ipython3",
   "version": "3.7.11"
  }
 },
 "nbformat": 4,
 "nbformat_minor": 5
}
